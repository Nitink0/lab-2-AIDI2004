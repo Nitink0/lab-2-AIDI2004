{
  "nbformat": 4,
  "nbformat_minor": 0,
  "metadata": {
    "colab": {
      "name": "azurecode.ipynb",
      "provenance": [],
      "collapsed_sections": [],
      "authorship_tag": "ABX9TyPGiKc/ddGaLi6s15MFjGdP",
      "include_colab_link": true
    },
    "kernelspec": {
      "name": "python3",
      "display_name": "Python 3"
    },
    "language_info": {
      "name": "python"
    }
  },
  "cells": [
    {
      "cell_type": "markdown",
      "metadata": {
        "id": "view-in-github",
        "colab_type": "text"
      },
      "source": [
        "<a href=\"https://colab.research.google.com/github/Nitink0/lab-2-AIDI2004/blob/main/lab2%20AIDI%202004.ipynb\" target=\"_parent\"><img src=\"https://colab.research.google.com/assets/colab-badge.svg\" alt=\"Open In Colab\"/></a>"
      ]
    },
    {
      "cell_type": "code",
      "execution_count": null,
      "metadata": {
        "id": "sr2bJziGCgbr"
      },
      "outputs": [],
      "source": [
        "#Factorial program"
      ]
    },
    {
      "cell_type": "code",
      "source": [
        "y = 5\n",
        "fact = 1\n",
        "\n",
        "for x in range(1, y+1):\n",
        "  fact = fact * x\n",
        "\n",
        "\n",
        "print(fact)"
      ],
      "metadata": {
        "colab": {
          "base_uri": "https://localhost:8080/"
        },
        "id": "FEIhxD1FCknS",
        "outputId": "08306a61-643e-4650-ab95-1f87d25fae3c"
      },
      "execution_count": null,
      "outputs": [
        {
          "output_type": "stream",
          "name": "stdout",
          "text": [
            "120\n"
          ]
        }
      ]
    },
    {
      "cell_type": "code",
      "source": [
        ""
      ],
      "metadata": {
        "id": "KeymKx4iEbeh"
      },
      "execution_count": null,
      "outputs": []
    }
  ]
}